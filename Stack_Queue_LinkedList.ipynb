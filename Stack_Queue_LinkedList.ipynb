{
 "cells": [
  {
   "cell_type": "markdown",
   "metadata": {},
   "source": [
    "# Implementation of Stack, Queue, and Linked List\n",
    "\n",
    "### Stack\n",
    "empty() – Returns whether the stack is empty – Time Complexity : O(1) <br>\n",
    "size() – Returns the size of the stack – Time Complexity : O(1) <br>\n",
    "top() – Returns a reference to the top most element of the stack – Time Complexity : O(1) <br>\n",
    "push(g) – Adds the element ‘g’ at the top of the stack – Time Complexity : O(1) <br>\n",
    "pop() – Deletes the top most element of the stack – Time Complexity : O(1) <br>\n",
    "\n",
    "### Queue\n",
    "Enqueue: Adds an item to the queue. If the queue is full, then it is said to be an Overflow condition – Time Complexity : O(1) <br> \n",
    "Dequeue: Removes an item from the queue. The items are popped in the same order in which they are pushed. If the queue is empty, then it is said to be an Underflow condition – Time Complexity : O(1) <br>\n",
    "Front: Get the front item from queue – Time Complexity : O(1) <br>\n",
    "Rear: Get the last item from queue – Time Complexity : O(1) <br>"
   ]
  },
  {
   "cell_type": "code",
   "execution_count": 1,
   "metadata": {},
   "outputs": [],
   "source": [
    "#started a class\n",
    "class Stack:\n",
    "    def __init__(self):\n",
    "        #this is a constructor\n",
    "        #you usually don't return anything inside the constructor\n",
    "        self.stack = [] #stack list\n",
    "        self.n = 0 #size of the list\n",
    "        self.emp = True #if list is empty\n",
    "    \n",
    "    def empty(self):\n",
    "        #return whether the stack is empty\n",
    "        return self.emp\n",
    "        \n",
    "    def size(self):\n",
    "        #return the size of the stack\n",
    "        return self.n\n",
    "    \n",
    "    def top(self):\n",
    "        if self.emp:\n",
    "            return None\n",
    "        else:\n",
    "            return self.stack[0]\n",
    "    \n",
    "    def push(self, data):\n",
    "        self.stack.insert(0, data)\n",
    "        self.n += 1\n",
    "        self.emp = False\n",
    "    \n",
    "    def pop(self):\n",
    "        head = self.stack.pop(0)\n",
    "        self.n -= 1\n",
    "        \n",
    "        if self.n == 0:\n",
    "            self.emp = True\n",
    "            \n",
    "        return head"
   ]
  },
  {
   "cell_type": "code",
   "execution_count": 2,
   "metadata": {},
   "outputs": [],
   "source": [
    "#started a class\n",
    "class Queue:\n",
    "    def __init__(self):\n",
    "        #this is a constructor\n",
    "        #you usually don't return anything inside the constructor\n",
    "        self.queue = [] #stack list\n",
    "        self.n = 0 #size of the list\n",
    "        self.emp = True #if list is empty\n",
    "    \n",
    "    def empty(self):\n",
    "        #return whether the stack is empty\n",
    "        return self.emp\n",
    "        \n",
    "    def size(self):\n",
    "        #return the size of the stack\n",
    "        return self.n\n",
    "    \n",
    "    def rear(self):\n",
    "        if self.emp:\n",
    "            return None\n",
    "        else:\n",
    "            return self.queue[0]\n",
    "        \n",
    "    def front(self):\n",
    "        if self.emp:\n",
    "            return None\n",
    "        else:\n",
    "            return self.queue[-1]\n",
    "    \n",
    "    def enqueue(self, data):\n",
    "        self.queue.insert(0, data)\n",
    "        self.n += 1\n",
    "        self.emp = False\n",
    "    \n",
    "    def dequeue(self):\n",
    "        tail = self.queue.pop()\n",
    "        self.n -= 1\n",
    "        if self.n == 0:\n",
    "            self.emp = True\n",
    "        return tail"
   ]
  },
  {
   "cell_type": "code",
   "execution_count": 3,
   "metadata": {},
   "outputs": [],
   "source": [
    "#question pool -- 10 \n",
    "#randomly draw 5 questions for the trivia game\n",
    "#History Trivia Game\n",
    "TriviaQuestions = {\n",
    "    'Q1': {\n",
    "        'Question': 'In which country is the Bay of Pigs?',\n",
    "        'RightAnswer': 'Cuba',\n",
    "        'Options': ['Cuba', 'Japan', 'Span', 'U.K.']\n",
    "    },\n",
    "    'Q2': {\n",
    "        'Question': 'Where did the Great Fire of London begin, on 2 September 1666?',\n",
    "        'RightAnswer': 'Pudding Lane',\n",
    "        'Options': ['Justice Dr.', 'Pudding Lane', 'Oxford Street', 'CVS'],\n",
    "    },\n",
    "    'Q3': {\n",
    "        'Question': 'Which king preceded Queen Victoria?',\n",
    "        'RightAnswer': 'Edward VII',\n",
    "        'Options': ['Alexander the Great', 'Louis XVI', 'Edward VII', 'Queen Elizabeth II']\n",
    "    },\n",
    "    'Q4':{\n",
    "        'Question':'Who succeeded Nicholas II',\n",
    "        'RightAnswer':'Vladmir Lenin',\n",
    "        'Options':['Nicholas III','Alexander II','Vladmir Lenin','Joseph Stalin']\n",
    "    },\n",
    "    'Q5':{\n",
    "        'Question':'When did the Second World War Begin',\n",
    "        'RightAnswer':'1939',\n",
    "        'Options':['1937','1945','1941','1939']\n",
    "    },\n",
    "    'Q6':{\n",
    "        'Question':'When was the puppet state of Manchukuo established?',\n",
    "        'RightAnswer':'1932',\n",
    "        'Options':['1931','1937','1932','1945']\n",
    "        }\n",
    "}"
   ]
  },
  {
   "cell_type": "code",
   "execution_count": null,
   "metadata": {},
   "outputs": [],
   "source": []
  },
  {
   "cell_type": "code",
   "execution_count": null,
   "metadata": {},
   "outputs": [],
   "source": []
  },
  {
   "cell_type": "code",
   "execution_count": 10,
   "metadata": {},
   "outputs": [
    {
     "name": "stdout",
     "output_type": "stream",
     "text": [
      "Do you want to continue with the game? [Y/N]Y\n",
      "Who succeeded Nicholas II\n",
      "A.Nicholas III  B.Alexander II  C.Vladmir Lenin  D.Joseph Stalin\n",
      "Your Answer [A/B/C/D]: aa\n",
      "invalid input\n",
      "Wrong :(\n",
      "Right answer is Vladmir Lenin\n",
      "Score: 0\n",
      "\n",
      "\n",
      "Where did the Great Fire of London begin, on 2 September 1666?\n",
      "A.Justice Dr.  B.Pudding Lane  C.Oxford Street  D.CVS\n",
      "Your Answer [A/B/C/D]: a\n",
      "Wrong :(\n",
      "Right answer is Pudding Lane\n",
      "Score: 0\n",
      "\n",
      "\n",
      "Which king preceded Queen Victoria?\n",
      "A.Alexander the Great  B.Louis XVI  C.Edward VII  D.Queen Elizabeth II\n",
      "Your Answer [A/B/C/D]: a\n",
      "Wrong :(\n",
      "Right answer is Edward VII\n",
      "Score: 0\n",
      "\n",
      "\n",
      "In which country is the Bay of Pigs?\n",
      "A.Cuba  B.Japan  C.Span  D.U.K.\n",
      "Your Answer [A/B/C/D]: a\n",
      "Correct!\n",
      "Score: 1\n",
      "\n",
      "\n",
      "When did the Second World War Begin\n",
      "A.1937  B.1945  C.1941  D.1939\n",
      "Your Answer [A/B/C/D]: a\n",
      "Wrong :(\n",
      "Right answer is 1939\n",
      "Score: 1\n",
      "\n",
      "\n",
      "Yeah! You finished the Trivia Quiz! Your score is 1\n"
     ]
    }
   ],
   "source": [
    "import random\n",
    "game = True\n",
    "while game:\n",
    "    #ask the user, if they want to replay the game\n",
    "    proceed = input('Do you want to continue with the game? [Y/N]')\n",
    "    if proceed != 'Y':\n",
    "        game = False\n",
    "        break\n",
    "    \n",
    "    #pick questions\n",
    "    k = list(TriviaQuestions.keys())\n",
    "    keys = random.sample(k, 5)\n",
    "    questions = Queue() #initializing a queue instance to store the questions\n",
    "    for key in keys:\n",
    "        questions.enqueue(key)\n",
    "    \n",
    "    score = 0\n",
    "    while questions.empty() == False:\n",
    "        key = questions.dequeue()\n",
    "        question = TriviaQuestions[key]\n",
    "        \n",
    "        #print question\n",
    "        print(question['Question'])\n",
    "        opt = question['Options'] #[0, 1, 2, 3]\n",
    "        print('A.' + opt[0] + '  B.' + opt[1] + '  C.' + opt[2] + '  D.' + opt[3])\n",
    "        user_input = input('Your Answer [A/B/C/D]: ')\n",
    "        index = 0\n",
    "        \n",
    "        if user_input == 'A' or user_input == 'a':\n",
    "            index = 0\n",
    "        elif user_input == 'B' or user_input == 'b':\n",
    "            index = 1\n",
    "        elif user_input == 'C' or user_input == 'c':\n",
    "            index = 2\n",
    "        elif user_input == 'D' or user_input == 'd':\n",
    "            index = 3\n",
    "        else:\n",
    "            print('invalid input')\n",
    "            \n",
    "        if opt[index] == question['RightAnswer']:\n",
    "            print('Correct!')\n",
    "            score += 1\n",
    "        else:\n",
    "            print('Wrong :(')\n",
    "            print('Right answer is ' + question['RightAnswer'])\n",
    "            \n",
    "        print ('Score: ' + str(score))\n",
    "        print('\\n')\n",
    "    print('Yeah! You finished the Trivia Quiz! Your score is ' + str(score))\n",
    "    break"
   ]
  },
  {
   "cell_type": "code",
   "execution_count": 13,
   "metadata": {},
   "outputs": [
    {
     "name": "stdout",
     "output_type": "stream",
     "text": [
      "Do you want to continue with the game? [Y/N]Y\n",
      "Where did the Great Fire of London begin, on 2 September 1666?\n",
      "A.Justice Dr.  B.Pudding Lane  C.Oxford Street  D.CVS\n",
      "Your Answer [A/B/C/D]: a\n",
      "Wrong :(\n",
      "Right answer is Pudding Lane\n",
      "Score: 0\n",
      "\n",
      "\n",
      "Which king preceded Queen Victoria?\n",
      "A.Alexander the Great  B.Louis XVI  C.Edward VII  D.Queen Elizabeth II\n",
      "Your Answer [A/B/C/D]: a\n",
      "Wrong :(\n",
      "Right answer is Edward VII\n",
      "Score: 0\n",
      "\n",
      "\n",
      "In which country is the Bay of Pigs?\n",
      "A.Cuba  B.Japan  C.Span  D.U.K.\n",
      "Your Answer [A/B/C/D]: a\n",
      "Correct!\n",
      "Score: 1\n",
      "\n",
      "\n",
      "When was the puppet state of Manchukuo established?\n",
      "A.1931  B.1937  C.1932  D.1945\n",
      "Your Answer [A/B/C/D]: a\n",
      "Wrong :(\n",
      "Right answer is 1932\n",
      "Score: 1\n",
      "\n",
      "\n",
      "When did the Second World War Begin\n",
      "A.1937  B.1945  C.1941  D.1939\n",
      "Your Answer [A/B/C/D]: a\n",
      "Wrong :(\n",
      "Right answer is 1939\n",
      "Score: 1\n",
      "\n",
      "\n",
      "Yeah! You finished the Trivia Quiz! Your score is 1\n"
     ]
    }
   ],
   "source": [
    "game = True\n",
    "while game:\n",
    "    #ask the user, if they want to replay the game\n",
    "    proceed = input('Do you want to continue with the game? [Y/N]')\n",
    "    if proceed != 'Y':\n",
    "        game = False\n",
    "        break\n",
    "    \n",
    "    #pick questions\n",
    "    k = list(TriviaQuestions.keys())\n",
    "    keys = random.sample(k, 5)\n",
    "    questions = Stack() #initializing a stack instance to store the questions\n",
    "    for key in keys:\n",
    "        questions.push(key)\n",
    "    \n",
    "    score = 0\n",
    "    while questions.empty() == False:\n",
    "        key = questions.pop()\n",
    "        question = TriviaQuestions[key]\n",
    "        \n",
    "        #print question\n",
    "        print(question['Question'])\n",
    "        opt = question['Options'] #[0, 1, 2, 3]\n",
    "        print('A.' + opt[0] + '  B.' + opt[1] + '  C.' + opt[2] + '  D.' + opt[3])\n",
    "        user_input = input('Your Answer [A/B/C/D]: ')\n",
    "        index = 0\n",
    "        \n",
    "        if user_input == 'A' or user_input == 'a':\n",
    "            index = 0\n",
    "        elif user_input == 'B' or user_input == 'b':\n",
    "            index = 1\n",
    "        elif user_input == 'C' or user_input == 'c':\n",
    "            index = 2\n",
    "        elif user_input == 'D' or user_input == 'd':\n",
    "            index = 3\n",
    "        else:\n",
    "            print('invalid input')\n",
    "            \n",
    "        if opt[index] == question['RightAnswer']:\n",
    "            print('Correct!')\n",
    "            score += 1\n",
    "        else:\n",
    "            print('Wrong :(')\n",
    "            print('Right answer is ' + question['RightAnswer'])\n",
    "            \n",
    "        print ('Score: ' + str(score))\n",
    "        print('\\n')\n",
    "    print('Yeah! You finished the Trivia Quiz! Your score is ' + str(score))\n",
    "    break"
   ]
  },
  {
   "cell_type": "code",
   "execution_count": 49,
   "metadata": {},
   "outputs": [],
   "source": [
    "class LinkedList:\n",
    "    def __init__(self):\n",
    "        self.head = None\n",
    "    \n",
    "    def addNode(self, node):\n",
    "        if self.head == None:\n",
    "            self.head = node\n",
    "        else:\n",
    "            curr_node = self.head\n",
    "            while curr_node.next != None:\n",
    "                curr_node = curr_node.next\n",
    "            curr_node.next = node    \n",
    "        \n",
    "class Node:\n",
    "    def __init__(self, val):\n",
    "        self.current = val\n",
    "        self.next = None"
   ]
  },
  {
   "cell_type": "code",
   "execution_count": 50,
   "metadata": {},
   "outputs": [],
   "source": [
    "linked_lst = LinkedList() #initialize a linked list instance"
   ]
  },
  {
   "cell_type": "code",
   "execution_count": 51,
   "metadata": {},
   "outputs": [],
   "source": [
    "node1 = Node(1) #initialize a node instance"
   ]
  },
  {
   "cell_type": "code",
   "execution_count": 52,
   "metadata": {},
   "outputs": [],
   "source": [
    "linked_lst.addNode(node1)"
   ]
  },
  {
   "cell_type": "code",
   "execution_count": 53,
   "metadata": {},
   "outputs": [],
   "source": [
    "linked_lst.head.next"
   ]
  },
  {
   "cell_type": "code",
   "execution_count": 54,
   "metadata": {},
   "outputs": [],
   "source": [
    "node2 = Node(2)"
   ]
  },
  {
   "cell_type": "code",
   "execution_count": 55,
   "metadata": {},
   "outputs": [],
   "source": [
    "linked_lst.addNode(node2)"
   ]
  },
  {
   "cell_type": "code",
   "execution_count": 56,
   "metadata": {},
   "outputs": [
    {
     "data": {
      "text/plain": [
       "1"
      ]
     },
     "execution_count": 56,
     "metadata": {},
     "output_type": "execute_result"
    }
   ],
   "source": [
    "linked_lst.head.current"
   ]
  },
  {
   "cell_type": "code",
   "execution_count": 58,
   "metadata": {},
   "outputs": [
    {
     "data": {
      "text/plain": [
       "2"
      ]
     },
     "execution_count": 58,
     "metadata": {},
     "output_type": "execute_result"
    }
   ],
   "source": [
    "linked_lst.head.next.current"
   ]
  },
  {
   "cell_type": "code",
   "execution_count": null,
   "metadata": {},
   "outputs": [],
   "source": []
  }
 ],
 "metadata": {
  "kernelspec": {
   "display_name": "Python 3",
   "language": "python",
   "name": "python3"
  },
  "language_info": {
   "codemirror_mode": {
    "name": "ipython",
    "version": 3
   },
   "file_extension": ".py",
   "mimetype": "text/x-python",
   "name": "python",
   "nbconvert_exporter": "python",
   "pygments_lexer": "ipython3",
   "version": "3.7.3"
  }
 },
 "nbformat": 4,
 "nbformat_minor": 2
}
